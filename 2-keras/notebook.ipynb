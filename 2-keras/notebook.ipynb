{
 "cells": [
  {
   "attachments": {},
   "cell_type": "markdown",
   "metadata": {},
   "source": [
    "# Learning Keras"
   ]
  },
  {
   "attachments": {},
   "cell_type": "markdown",
   "metadata": {},
   "source": [
    "## Loading the Dataset"
   ]
  },
  {
   "cell_type": "code",
   "execution_count": 63,
   "metadata": {},
   "outputs": [
    {
     "name": "stdout",
     "output_type": "stream",
     "text": [
      "   TeamID  Points_mean  Poss_mean    OE_mean     DE_mean   FGM_mean  \\\n",
      "0  1101.0    71.192308  71.528846  99.892198  104.809578  25.384615   \n",
      "\n",
      "    FGA_mean  FGM3_mean  FGA3_mean   FTM_mean  ...  OppStl_stdev  \\\n",
      "0  58.346154   6.692308       19.5  13.730769  ...      2.434953   \n",
      "\n",
      "   OppBlk_stdev  OppFouls_stdev  rpi_avg  rpi_count  rpi_last    WinPct  \\\n",
      "0      2.112586        4.630105    999.0        0.0     999.0  0.346154   \n",
      "\n",
      "       SOS       SOV  Seed  \n",
      "0  0.52223  0.396363   NaN  \n",
      "\n",
      "[1 rows x 70 columns]\n"
     ]
    }
   ],
   "source": [
    "import numpy as np\n",
    "import pandas as pd\n",
    "df = pd.read_csv(\"./march_madness.csv\")\n",
    "print(df.head(1))\n"
   ]
  },
  {
   "cell_type": "code",
   "execution_count": 2,
   "metadata": {},
   "outputs": [],
   "source": [
    "input_columns = ['Points_mean', 'Poss_mean', 'OE_mean', 'DE_mean', 'FGM_mean',\n",
    "       'FGA_mean', 'FGM3_mean', 'FGA3_mean', 'FTM_mean', 'FTA_mean', 'OR_mean',\n",
    "       'DR_mean', 'Ast_mean', 'TO_mean', 'Stl_mean', 'Blk_mean', 'Fouls_mean',\n",
    "       'OppPoints_mean', 'OppFGM_mean', 'OppFGA_mean', 'OppFGM3_mean',\n",
    "       'OppFGA3_mean', 'OppFTM_mean', 'OppFTA_mean', 'OppOR_mean',\n",
    "       'OppDR_mean', 'OppAst_mean', 'OppTO_mean', 'OppStl_mean', 'OppBlk_mean',\n",
    "       'OppFouls_mean', 'Points_stdev', 'Poss_stdev', 'OE_stdev', 'DE_stdev',\n",
    "       'FGM_stdev', 'FGA_stdev', 'FGM3_stdev', 'FGA3_stdev', 'FTM_stdev',\n",
    "       'FTA_stdev', 'OR_stdev', 'DR_stdev', 'Ast_stdev', 'TO_stdev',\n",
    "       'Stl_stdev', 'Blk_stdev', 'Fouls_stdev', 'OppPoints_stdev',\n",
    "       'OppFGM_stdev', 'OppFGA_stdev', 'OppFGM3_stdev', 'OppFGA3_stdev',\n",
    "       'OppFTM_stdev', 'OppFTA_stdev', 'OppOR_stdev', 'OppDR_stdev',\n",
    "       'OppAst_stdev', 'OppTO_stdev', 'OppStl_stdev', 'OppBlk_stdev',\n",
    "       'OppFouls_stdev', 'rpi_avg', 'rpi_count', 'rpi_last', 'WinPct', 'SOS',\n",
    "       'SOV']\n",
    "output_column = 'Seed'\n",
    "\n",
    "X = df[input_columns]\n",
    "Y = df[output_column].apply(lambda x: int(x)-1 if pd.notna(x) else 16) # Seed Index, Else 16"
   ]
  },
  {
   "attachments": {},
   "cell_type": "markdown",
   "metadata": {},
   "source": [
    "## Data Pre-Processing"
   ]
  },
  {
   "cell_type": "code",
   "execution_count": 52,
   "metadata": {},
   "outputs": [],
   "source": [
    "from sklearn.preprocessing import StandardScaler\n",
    "X_scaled = pd.DataFrame()\n",
    "\n",
    "for column in input_columns:\n",
    "    scaled_column = pd.DataFrame(StandardScaler().fit_transform(np.array(X[column]).reshape(-1,1)), columns=[column])\n",
    "    X_scaled = pd.concat([X_scaled, scaled_column], axis=1)"
   ]
  },
  {
   "attachments": {},
   "cell_type": "markdown",
   "metadata": {},
   "source": [
    "## Basic Model\n",
    "Sinlge Input: array of numeric stats\n",
    "\n",
    "Single Output: seed index: 0-16 where\n",
    "\n",
    "0=1 seed -> 15=16 seed\n",
    "\n",
    "16 = miss tournament"
   ]
  },
  {
   "cell_type": "code",
   "execution_count": 75,
   "metadata": {},
   "outputs": [],
   "source": [
    "from keras.layers import Input, Dense\n",
    "from keras.models import Model\n",
    "\n",
    "num_inputs, num_classes = len(input_columns), 17\n",
    "# Input Layer\n",
    "input_layer = Input(shape=(num_inputs,), name = \"team_features\")\n",
    "# Hidden Layer\n",
    "hidden_1 = Dense(32, activation=\"relu\")(input_layer)\n",
    "hidden_2 = Dense(17, activation=\"relu\")(hidden_1)\n",
    "# Output\n",
    "predications = Dense(num_classes, activation=\"softmax\")(hidden_2)\n",
    "model = Model(inputs = input_layer, outputs=predications)\n",
    "model.compile(optimizer=\"rmsprop\", loss=\"sparse_categorical_crossentropy\", metrics= [\"accuracy\"])\n"
   ]
  },
  {
   "attachments": {},
   "cell_type": "markdown",
   "metadata": {},
   "source": [
    "# Fitting the Model"
   ]
  },
  {
   "cell_type": "code",
   "execution_count": 76,
   "metadata": {},
   "outputs": [
    {
     "name": "stderr",
     "output_type": "stream",
     "text": [
      "/Users/andrewgrowney/.pyenv/versions/3.9.10/envs/nlu/lib/python3.9/site-packages/tensorflow/python/data/ops/structured_function.py:254: UserWarning: Even though the `tf.config.experimental_run_functions_eagerly` option is set, this option does not apply to tf.data functions. To force eager execution of tf.data functions, please use `tf.data.experimental.enable_debug_mode()`.\n",
      "  warnings.warn(\n"
     ]
    }
   ],
   "source": [
    "import tensorflow as tf\n",
    "\n",
    "tf.config.run_functions_eagerly(True)\n",
    "## Convert X_scaled to input numpy array [(f1, f2, ..), (f1,f2, ....)]\n",
    "## Convert Y to output numpy array [[16], [0], [3], ...]\n",
    "history = model.fit(np.array(X_scaled), np.array(Y), epochs = 50, verbose=0)\n"
   ]
  },
  {
   "cell_type": "code",
   "execution_count": 77,
   "metadata": {},
   "outputs": [
    {
     "name": "stdout",
     "output_type": "stream",
     "text": [
      "[0.03030303120613098, 0.1542699784040451, 0.4490358233451843, 0.705234169960022, 0.7988981008529663, 0.8099173307418823, 0.8126721978187561, 0.8126721978187561, 0.8126721978187561, 0.8126721978187561, 0.8126721978187561, 0.8126721978187561, 0.8126721978187561, 0.8126721978187561, 0.8154270052909851, 0.8154270052909851, 0.8181818127632141, 0.8181818127632141, 0.8181818127632141, 0.8209366202354431, 0.8236914873123169, 0.8264462947845459, 0.8374655842781067, 0.8402203917503357, 0.8402203917503357, 0.8429751992225647, 0.8512396812438965, 0.8595041036605835, 0.8650137782096863, 0.8622589707374573, 0.8705233931541443, 0.8787878751754761, 0.8870523571968079, 0.8870523571968079, 0.8925619721412659, 0.9008264541625977, 0.9090909361839294, 0.9146005511283875, 0.9228650331497192, 0.9311294555664062, 0.944903552532196, 0.942148745059967, 0.944903552532196, 0.944903552532196, 0.9531680345535278, 0.9586777091026306, 0.9641873240470886, 0.9696969985961914, 0.9696969985961914, 0.9724518060684204]\n"
     ]
    },
    {
     "data": {
      "image/png": "[encoded data removed]",
      "text/plain": [
       "<Figure size 640x480 with 1 Axes>"
      ]
     },
     "metadata": {},
     "output_type": "display_data"
    }
   ],
   "source": [
    "import matplotlib.pyplot as plt\n",
    "plt.plot(history.history[\"accuracy\"])\n",
    "plt.ylabel(\"Accuracy\")\n",
    "plt.xlabel(\"Epoch\")\n",
    "plt.show()"
   ]
  },
  {
   "attachments": {},
   "cell_type": "markdown",
   "metadata": {},
   "source": [
    "# Make Predictions"
   ]
  },
  {
   "cell_type": "code",
   "execution_count": 61,
   "metadata": {},
   "outputs": [
    {
     "name": "stdout",
     "output_type": "stream",
     "text": [
      "1/1 [==============================] - 0s 20ms/step\n",
      "1: 93.95\n",
      "2: 0.51\n",
      "3: 0.02\n",
      "4: 0.0\n",
      "5: 0.16\n",
      "6: 0.0\n",
      "7: 0.56\n",
      "8: 0.08\n",
      "9: 0.03\n",
      "10: 0.0\n",
      "11: 0.17\n",
      "12: 0.27\n",
      "13: 0.0\n",
      "14: 0.02\n",
      "15: 0.13\n",
      "16: 0.7\n",
      "Miss Tournament: 3.4\n"
     ]
    },
    {
     "name": "stderr",
     "output_type": "stream",
     "text": [
      "/Users/andrewgrowney/.pyenv/versions/3.9.10/envs/nlu/lib/python3.9/site-packages/tensorflow/python/data/ops/structured_function.py:254: UserWarning: Even though the `tf.config.experimental_run_functions_eagerly` option is set, this option does not apply to tf.data functions. To force eager execution of tf.data functions, please use `tf.data.experimental.enable_debug_mode()`.\n",
      "  warnings.warn(\n"
     ]
    }
   ],
   "source": [
    "# Select a random row to predict for\n",
    "# pred_in = np.random.random(size=(1,68))\n",
    "pred_index = 3\n",
    "pred_in = np.array(X_scaled.values[pred_index]).reshape(1, 68)\n",
    "res = model.predict(pred_in)[0]\n",
    "\n",
    "# Output Formatting\n",
    "for (seed_idx, prob) in enumerate(res):\n",
    "    seed = (seed_idx + 1) if seed_idx < 16 else \"Miss Tournament\"\n",
    "    print(f\"{seed}: {round(prob*100, 2)}\")\n"
   ]
  }
 ],
 "metadata": {
  "kernelspec": {
   "display_name": "nlu",
   "language": "python",
   "name": "python3"
  },
  "language_info": {
   "codemirror_mode": {
    "name": "ipython",
    "version": 3
   },
   "file_extension": ".py",
   "mimetype": "text/x-python",
   "name": "python",
   "nbconvert_exporter": "python",
   "pygments_lexer": "ipython3",
   "version": "3.9.10"
  },
  "orig_nbformat": 4
 },
 "nbformat": 4,
 "nbformat_minor": 2
}
